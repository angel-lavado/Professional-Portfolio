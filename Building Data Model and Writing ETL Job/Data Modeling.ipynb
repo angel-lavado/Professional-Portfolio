{
 "cells": [
  {
   "cell_type": "code",
   "execution_count": 1,
   "metadata": {},
   "outputs": [
    {
     "name": "stdout",
     "output_type": "stream",
     "text": [
      "Requirement already satisfied: psycopg2 in c:\\users\\angel\\anaconda3\\lib\\site-packages (2.9.6)\n"
     ]
    }
   ],
   "source": [
    "!pip install psycopg2"
   ]
  },
  {
   "cell_type": "code",
   "execution_count": 15,
   "metadata": {},
   "outputs": [
    {
     "name": "stdout",
     "output_type": "stream",
     "text": [
      "Collecting python-dotenv\n",
      "  Downloading python_dotenv-1.0.0-py3-none-any.whl (19 kB)\n",
      "Installing collected packages: python-dotenv\n",
      "Successfully installed python-dotenv-1.0.0\n"
     ]
    }
   ],
   "source": [
    "!pip install python-dotenv"
   ]
  },
  {
   "cell_type": "code",
   "execution_count": 51,
   "metadata": {},
   "outputs": [],
   "source": [
    "## Importing libraries\n",
    "import psycopg2 # library for working with Postgres database\n",
    "from dotenv import load_dotenv # library for working with environment variables\n",
    "import os\n",
    "import csv\n",
    "import io\n",
    "from datetime import datetime"
   ]
  },
  {
   "cell_type": "code",
   "execution_count": 2,
   "metadata": {},
   "outputs": [
    {
     "data": {
      "text/plain": [
       "True"
      ]
     },
     "execution_count": 2,
     "metadata": {},
     "output_type": "execute_result"
    }
   ],
   "source": [
    "load_dotenv()  # Load environment variables from .env file"
   ]
  },
  {
   "cell_type": "code",
   "execution_count": 3,
   "metadata": {},
   "outputs": [],
   "source": [
    "## Reading connection parameters and others from environment variables (BEST PRACTICE!)\n",
    "host = os.environ.get('DB_HOST')\n",
    "dbname = os.environ.get('DB_NAME')\n",
    "user = os.environ.get('DB_USER')\n",
    "password = os.environ.get('DB_PASS')\n",
    "path = os.environ.get('FILE_PATH') "
   ]
  },
  {
   "cell_type": "code",
   "execution_count": 4,
   "metadata": {},
   "outputs": [],
   "source": [
    "## Other parameters\n",
    "tbl_sales = 'Sales_2015'\n",
    "tbl_products = 'Products'\n",
    "tbl_territories = 'Territories'\n",
    "tbl_customers = 'Customers'\n",
    "tbl_product_subcategories = 'Product_Subcategories'\n",
    "tbl_control = 'ControlFilesLoaded'\n"
   ]
  },
  {
   "cell_type": "code",
   "execution_count": null,
   "metadata": {},
   "outputs": [],
   "source": [
    "## Start connection to Postgres Database, create cursor and create Postgres tables.\n",
    "# Using WITH (context manager) to ensure the connection is properly closed (BEST PRACTICE!), \n",
    "try:\n",
    "    with psycopg2.connect(f\"host={host} dbname={dbname} user={user} password={password}\") as conn: \n",
    "        # Create a cursor object\n",
    "        with conn.cursor() as cursor:\n",
    "            # Set the datestyle configuration\n",
    "            cursor.execute(\"SET datestyle = 'ISO, MDY'\")\n",
    "\n",
    "            # Create tables with primary & foreign keys           \n",
    "            create_control_table = f\"CREATE TABLE IF NOT EXISTS {tbl_control} (FileName VARCHAR, TableName VARCHAR, TimeLoaded TIMESTAMP) \"\n",
    "            create_territory_table = f\"CREATE TABLE IF NOT EXISTS {tbl_territories} (SalesTerritoryKey INT PRIMARY KEY, Region VARCHAR, Country VARCHAR, Continent VARCHAR)\"\n",
    "            create_customers_table = f\"CREATE TABLE IF NOT EXISTS {tbl_customers} (CustomerKey INT PRIMARY KEY, Prefix VARCHAR, FirstName VARCHAR, LastName VARCHAR, BirthDate DATE, MaritalStatus CHAR(3), Gender CHAR(3), EmailAddress VARCHAR, AnnualIncome VARCHAR, TotalChildren INT, EducationLevel VARCHAR, Occupation VARCHAR, HomeOwner CHAR(3))\"\n",
    "            create_product_sub_table = f\"CREATE TABLE IF NOT EXISTS {tbl_product_subcategories} (ProductSubcategoryKey INT PRIMARY KEY, SubcategoryName VARCHAR, ProductCategoryKey INT)\"\n",
    "            create_products_table = f\"CREATE TABLE IF NOT EXISTS {tbl_products} (ProductKey INT PRIMARY KEY, ProductSubcategoryKey INT REFERENCES Product_Subcategories(ProductSubcategoryKey), ProductSKU VARCHAR, ProductName VARCHAR, ModelName VARCHAR, ProductDescription VARCHAR, ProductColor VARCHAR, ProductSize VARCHAR, ProductStyle VARCHAR, ProductCost NUMERIC(10,2), ProductPrice NUMERIC(10,2))\"\n",
    "            create_sales_table = f\"CREATE TABLE IF NOT EXISTS {tbl_sales} (OrderDate DATE, StockDate DATE, OrderNumber VARCHAR PRIMARY KEY, ProductKey INT REFERENCES Products(ProductKey), CustomerKey INT REFERENCES Customers(CustomerKey), TerritoryKey INT REFERENCES Territories(SalesTerritoryKey), OrderLineItem INT, OrderQuantity INT)\"\n",
    "                      \n",
    "            cursor.execute(create_control_table)\n",
    "            cursor.execute(create_territory_table)\n",
    "            cursor.execute(create_customers_table)\n",
    "            cursor.execute(create_product_sub_table)\n",
    "            cursor.execute(create_products_table)\n",
    "            cursor.execute(create_sales_table)\n",
    "            \n",
    "    conn.commit()\n",
    "except psycopg2.OperationalError as e:\n",
    "    print(\"Could not start a connection to the database\")\n",
    "    print(e)\n",
    "except psycopg2.DatabaseError as e:\n",
    "    conn.rollback() # Rollback the transaction in case of any error\n",
    "    print(\"An error occur while working with the database, Rolling back!\")\n",
    "    print(e)"
   ]
  },
  {
   "cell_type": "code",
   "execution_count": 88,
   "metadata": {},
   "outputs": [],
   "source": [
    "## Defining a function that returns a list of all csv file names in a specific path\n",
    "def get_filenames_from_path(path):\n",
    "    path_files = []\n",
    "    for filename in os.listdir(path):\n",
    "        if filename.endswith('.csv'):\n",
    "            path_files.append(filename)\n",
    "    return path_files"
   ]
  },
  {
   "cell_type": "code",
   "execution_count": 115,
   "metadata": {},
   "outputs": [
    {
     "name": "stdout",
     "output_type": "stream",
     "text": [
      "Customers.csv\n",
      "Products.csv\n",
      "Product_Subcategories.csv\n",
      "Sales_2015.csv\n",
      "Territories.csv\n"
     ]
    }
   ],
   "source": [
    "## Retrieving CSV filse in path using function\n",
    "path_files = get_filenames_from_path(path)\n",
    "for file_name in path_files:\n",
    "    print(file_name)"
   ]
  },
  {
   "cell_type": "code",
   "execution_count": 107,
   "metadata": {},
   "outputs": [],
   "source": [
    "## Retrieving file names from Control table.\n",
    "try:\n",
    "    with psycopg2.connect(f\"host={host} dbname={dbname} user={user} password={password}\") as conn:\n",
    "        with conn.cursor() as cursor:\n",
    "            cursor.execute(f\"SELECT filename FROM {tbl_control}\")\n",
    "            rows = cursor.fetchall()\n",
    "            # Extract filenames from the rows\n",
    "            control_filenames = [row[0] for row in rows]\n",
    "\n",
    "except psycopg2.OperationalError as e:\n",
    "    print(\"Could not start a connection to the database\")\n",
    "    print(e)\n",
    "except psycopg2.DatabaseError as e:\n",
    "    conn.rollback() # Rollback the transaction in case of any error\n",
    "    print(\"An error occur while working with the database, Rolling back!\")\n",
    "    print(e)\n"
   ]
  },
  {
   "cell_type": "code",
   "execution_count": 116,
   "metadata": {},
   "outputs": [
    {
     "name": "stdout",
     "output_type": "stream",
     "text": [
      "['Territories.csv', 'Product_Subcategories.csv', 'Customers.csv', 'Products.csv', 'Sales_2015.csv']\n"
     ]
    }
   ],
   "source": [
    "print(control_filenames)"
   ]
  },
  {
   "cell_type": "code",
   "execution_count": 117,
   "metadata": {},
   "outputs": [
    {
     "name": "stdout",
     "output_type": "stream",
     "text": [
      "[]\n"
     ]
    }
   ],
   "source": [
    "## Compare path files  with file names in Control table to get all new csv files\n",
    "new_files = []\n",
    "\n",
    "for path_file in path_files:\n",
    "    if path_file not in control_filenames:\n",
    "        new_files.append(path_file)\n",
    "\n",
    "print(new_files)"
   ]
  },
  {
   "cell_type": "code",
   "execution_count": 112,
   "metadata": {},
   "outputs": [
    {
     "name": "stdout",
     "output_type": "stream",
     "text": [
      "[]\n"
     ]
    }
   ],
   "source": [
    "# Get the right order for loading (loading_order)\n",
    "order_list = [\"territories\", \"product_subcategories\", \"customers\", \"products\", 'sales']\n",
    "loading_order = []\n",
    "\n",
    "for table in order_list:\n",
    "    for new_file in new_files:\n",
    "        if table in new_file.lower():\n",
    "            loading_order.append(new_file)\n",
    "\n",
    "print(loading_order)      \n",
    "    "
   ]
  },
  {
   "cell_type": "code",
   "execution_count": 114,
   "metadata": {},
   "outputs": [],
   "source": [
    "## A new database connection to load new CSV files into Postgres tables\n",
    "try:\n",
    "    with psycopg2.connect(f\"host={host} dbname={dbname} user={user} password={password}\") as conn:\n",
    "        with conn.cursor() as cursor:\n",
    "                # Set the datestyle configuration\n",
    "                cursor.execute(\"SET datestyle = 'ISO, MDY'\")\n",
    "\n",
    "                for new_file in loading_order:\n",
    "                    if \"Territories\" in new_file:\n",
    "                        print(\"Starting to read Territories files!\")\n",
    "                        with open(f'{path}/{new_file}', 'r') as file:\n",
    "                            next(file) #skip first row\n",
    "                            cursor.copy_from(file, new_file.lower().replace(\".csv\",\"\") , sep=',' )\n",
    "                            print(\"Territories table loaded successfully!\")\n",
    "                            timestamp = datetime.now()\n",
    "                            cursor.execute(f\"INSERT INTO {tbl_control.lower()} (filename, tablename, timeloaded) VALUES (%s, %s, %s)\",(new_file, new_file.lower().replace('.csv',''), timestamp))\n",
    "                            print(\"Territories table saved in Control table!\")\n",
    "\n",
    "                    elif \"Product_Subcategories\" in new_file:\n",
    "                        print(\"Starting to read Product_Subcategories files!\")\n",
    "                        with open(f'{path}/{new_file}', 'r') as file:  #ok\n",
    "                            next(file) #skip first row                \n",
    "                            cursor.copy_from(file, new_file.lower().replace(\".csv\",\"\"), sep=',' )\n",
    "                            print(\"Product_Subcategories table loaded successfully!\")\n",
    "                            timestamp = datetime.now()\n",
    "                            cursor.execute(f\"INSERT INTO {tbl_control.lower()} (filename, tablename, timeloaded) VALUES (%s, %s, %s)\",(new_file, new_file.lower().replace('.csv',''), timestamp))\n",
    "                            print(\"Product_Subcategories table saved in Control table!\")\n",
    "\n",
    "                    elif \"Products\" in new_file:\n",
    "                        print(\"Starting to read Products files!\")\n",
    "                        with open(f'{path}/{new_file}', 'r') as file:  # ok\n",
    "                            file_content = file.read()\n",
    "                            # Create a file-like object from the string content\n",
    "                            file_obj = io.StringIO(file_content)\n",
    "                            # Load the CSV data into the PostgreSQL table using copy_expert()\n",
    "                            cursor.copy_expert(\"COPY products FROM STDIN WITH (FORMAT CSV, DELIMITER ',', HEADER TRUE, QUOTE '\\\"', ESCAPE '\\\"')\", file_obj)\n",
    "                            print(\"Product table loaded successfully!\")\n",
    "                            timestamp = datetime.now()\n",
    "                            cursor.execute(f\"INSERT INTO {tbl_control.lower()} (filename, tablename, timeloaded) VALUES (%s, %s, %s)\",(new_file, new_file.lower().replace('.csv',''), timestamp))\n",
    "                            print(\"Products table saved in Control table!\")\n",
    "\n",
    "                    elif \"Customers\" in new_file:\n",
    "                        print(\"Starting to read Customers files!\")\n",
    "                        with open(f'{path}/{new_file}', 'r', encoding='iso-8859-1') as file:  # ok\n",
    "                            file_content = file.read()\n",
    "                            # Create a file-like object from the string content\n",
    "                            file_obj = io.StringIO(file_content)\n",
    "                            # Load the CSV data into the PostgreSQL table using copy_expert()\n",
    "                            cursor.copy_expert(\"COPY customers FROM STDIN WITH (FORMAT CSV, DELIMITER ',', HEADER TRUE, QUOTE '\\\"', ESCAPE '\\\"')\", file_obj)\n",
    "                            print(\"Customers table loaded successfully!\")\n",
    "                            timestamp = datetime.now()\n",
    "                            cursor.execute(f\"INSERT INTO {tbl_control.lower()} (filename, tablename, timeloaded) VALUES (%s, %s, %s)\",(new_file, new_file.lower().replace('.csv',''), timestamp))\n",
    "                            print(\"Customers table saved in Control table!\")\n",
    "\n",
    "                    elif \"Sales\" in new_file:\n",
    "                        print(\"Starting to read Sales files!\")\n",
    "                        with open(f'{path}/{new_file}', 'r') as file:  \n",
    "                            file_content = file.read()\n",
    "                            # Create a file-like object from the string content\n",
    "                            file_obj = io.StringIO(file_content)\n",
    "                            # Load the CSV data into the PostgreSQL table using copy_expert()\n",
    "                            cursor.copy_expert(\"COPY sales_2015 FROM STDIN WITH (FORMAT CSV, DELIMITER ',', HEADER TRUE, QUOTE '\\\"', ESCAPE '\\\"')\", file_obj)        \n",
    "                            print(\"Sales table loaded successfully!\")\n",
    "                            timestamp = datetime.now()\n",
    "                            cursor.execute(f\"INSERT INTO {tbl_control.lower()} (filename, tablename, timeloaded) VALUES (%s, %s, %s)\",(new_file, new_file.lower().replace('.csv',''), timestamp))\n",
    "                            print(\"Sales table saved in Control table!\")\n",
    "                    else:\n",
    "                         print(\"Table not identified\")\n",
    "\n",
    "    conn.commit()              \n",
    "except psycopg2.OperationalError as e:\n",
    "    print(\"Could not start a connection to the database\")\n",
    "    print(e)\n",
    "except psycopg2.DatabaseError as e:\n",
    "    conn.rollback() # Rollback the transaction in case of any error\n",
    "    print(\"An error occur while working with the database, Rolling back!\")\n",
    "    print(e)\n",
    "        "
   ]
  },
  {
   "cell_type": "code",
   "execution_count": 8,
   "metadata": {},
   "outputs": [
    {
     "name": "stdout",
     "output_type": "stream",
     "text": [
      "hola\n"
     ]
    }
   ],
   "source": []
  }
 ],
 "metadata": {
  "kernelspec": {
   "display_name": "base",
   "language": "python",
   "name": "python3"
  },
  "language_info": {
   "codemirror_mode": {
    "name": "ipython",
    "version": 3
   },
   "file_extension": ".py",
   "mimetype": "text/x-python",
   "name": "python",
   "nbconvert_exporter": "python",
   "pygments_lexer": "ipython3",
   "version": "3.9.13"
  },
  "orig_nbformat": 4
 },
 "nbformat": 4,
 "nbformat_minor": 2
}
