{
 "cells": [
  {
   "cell_type": "code",
   "execution_count": 1,
   "metadata": {},
   "outputs": [
    {
     "name": "stdout",
     "output_type": "stream",
     "text": [
      "Requirement already satisfied: psycopg2 in c:\\users\\angel\\anaconda3\\lib\\site-packages (2.9.6)\n"
     ]
    }
   ],
   "source": [
    "!pip install psycopg2"
   ]
  },
  {
   "cell_type": "code",
   "execution_count": 15,
   "metadata": {},
   "outputs": [
    {
     "name": "stdout",
     "output_type": "stream",
     "text": [
      "Collecting python-dotenv\n",
      "  Downloading python_dotenv-1.0.0-py3-none-any.whl (19 kB)\n",
      "Installing collected packages: python-dotenv\n",
      "Successfully installed python-dotenv-1.0.0\n"
     ]
    }
   ],
   "source": [
    "!pip install python-dotenv"
   ]
  },
  {
   "cell_type": "code",
   "execution_count": 16,
   "metadata": {},
   "outputs": [],
   "source": [
    "import psycopg2 # library for working with Postgres database\n",
    "from dotenv import load_dotenv # library for working with environment variables\n",
    "import os\n",
    "import csv\n",
    "import io"
   ]
  },
  {
   "cell_type": "code",
   "execution_count": 3,
   "metadata": {},
   "outputs": [
    {
     "data": {
      "text/plain": [
       "True"
      ]
     },
     "execution_count": 3,
     "metadata": {},
     "output_type": "execute_result"
    }
   ],
   "source": [
    "load_dotenv()  # Load environment variables from .env file"
   ]
  },
  {
   "cell_type": "code",
   "execution_count": 4,
   "metadata": {},
   "outputs": [],
   "source": [
    "# Read connection paramenters from environment variables (BEST PRACTICE!)\n",
    "host = os.environ.get('DB_HOST')\n",
    "dbname = os.environ.get('DB_NAME')\n",
    "user = os.environ.get('DB_USER')\n",
    "password = os.environ.get('DB_PASS')"
   ]
  },
  {
   "cell_type": "code",
   "execution_count": 5,
   "metadata": {},
   "outputs": [],
   "source": [
    "# Other parameters\n",
    "path = os.environ.get('FILE_PATH')\n",
    "# tbl_airport = 'airports'\n",
    "# tbl_flight = 'flights'\n",
    "tbl_sales = 'Sales_2015'\n",
    "tbl_products = 'Products'\n",
    "tbl_territories = 'Territories'\n",
    "tbl_customers = 'Customers'\n",
    "tbl_product_subcategories = 'Product_Subcategories'\n"
   ]
  },
  {
   "cell_type": "code",
   "execution_count": 6,
   "metadata": {},
   "outputs": [
    {
     "name": "stdout",
     "output_type": "stream",
     "text": [
      "host=localhost\n"
     ]
    }
   ],
   "source": [
    "print(f\"host={host}\") # Testing if env variables were successfully loaded"
   ]
  },
  {
   "cell_type": "code",
   "execution_count": 7,
   "metadata": {},
   "outputs": [
    {
     "name": "stdout",
     "output_type": "stream",
     "text": [
      "host=raw_inventory\n"
     ]
    }
   ],
   "source": [
    "print(f\"host={dbname}\") # Testing if env variables were successfully loaded"
   ]
  },
  {
   "cell_type": "code",
   "execution_count": 6,
   "metadata": {},
   "outputs": [
    {
     "name": "stdout",
     "output_type": "stream",
     "text": [
      "C:/Users/angel/Desktop/DE PROJECTS/Professional-Portfolio/Building Data Model and Writing ETL Job/data/Sales_2015.csv\n"
     ]
    }
   ],
   "source": [
    "full_path = f'{path}/{tbl_sales}.csv' # Testing if env variables were successfully loaded\n",
    "print(full_path)"
   ]
  },
  {
   "cell_type": "code",
   "execution_count": 27,
   "metadata": {},
   "outputs": [],
   "source": [
    "# Start connection to Postgres Database \n",
    "# Using WITH (context manager) to ensure the connection is properly closed (BEST PRACTICE!), \n",
    "try:\n",
    "    with psycopg2.connect(f\"host={host} dbname={dbname} user={user} password={password}\") as conn:\n",
    "        # Create a cursor object\n",
    "        with conn.cursor() as cursor:\n",
    "            # Set the datestyle configuration\n",
    "            cursor.execute(\"SET datestyle = 'ISO, MDY'\")\n",
    "\n",
    "            # Create tables with primary & foreign keys\n",
    "            # create_airport_table = \"CREATE TABLE IF NOT EXISTS territories (airport_id INT, city VARCHAR, state VARCHAR, name VARCHAR)\"\n",
    "            # create_flights_table = \"CREATE TABLE IF NOT EXISTS flights (DayofMonth INT, DayOfWeek INT, Carrier VARCHAR, OriginAirportID INT, DestAirportID INT, DepDelay INT, ArrDelay INT)\"\n",
    "            \n",
    "            create_territory_table = f\"CREATE TABLE IF NOT EXISTS {tbl_territories} (SalesTerritoryKey INT PRIMARY KEY, Region VARCHAR, Country VARCHAR, Continent VARCHAR)\"\n",
    "            create_customers_table = f\"CREATE TABLE IF NOT EXISTS {tbl_customers} (CustomerKey INT PRIMARY KEY, Prefix VARCHAR, FirstName VARCHAR, LastName VARCHAR, BirthDate DATE, MaritalStatus CHAR(3), Gender CHAR(3), EmailAddress VARCHAR, AnnualIncome VARCHAR, TotalChildren INT, EducationLevel VARCHAR, Occupation VARCHAR, HomeOwner CHAR(3))\"\n",
    "            create_product_sub_table = f\"CREATE TABLE IF NOT EXISTS {tbl_product_subcategories} (ProductSubcategoryKey INT PRIMARY KEY, SubcategoryName VARCHAR, ProductCategoryKey INT)\"\n",
    "            \n",
    "            create_products_table = f\"CREATE TABLE IF NOT EXISTS {tbl_products} (ProductKey INT PRIMARY KEY, ProductSubcategoryKey INT REFERENCES Product_Subcategories(ProductSubcategoryKey), ProductSKU VARCHAR, ProductName VARCHAR, ModelName VARCHAR, ProductDescription VARCHAR, ProductColor VARCHAR, ProductSize VARCHAR, ProductStyle VARCHAR, ProductCost NUMERIC(10,2), ProductPrice NUMERIC(10,2))\"\n",
    "            create_sales_table = f\"CREATE TABLE IF NOT EXISTS {tbl_sales} (OrderDate DATE, StockDate DATE, OrderNumber VARCHAR PRIMARY KEY, ProductKey INT REFERENCES Products(ProductKey), CustomerKey INT REFERENCES Customers(CustomerKey), TerritoryKey INT REFERENCES Territories(SalesTerritoryKey), OrderLineItem INT, OrderQuantity INT)\"\n",
    "            \n",
    "            # cursor.execute(create_airport_table)\n",
    "            # cursor.execute(create_flights_table)\n",
    "            cursor.execute(create_territory_table)\n",
    "            cursor.execute(create_customers_table)\n",
    "            cursor.execute(create_product_sub_table)\n",
    "            cursor.execute(create_products_table)\n",
    "            cursor.execute(create_sales_table)\n",
    "\n",
    "            # Read airports CSV file and load data into airports table\n",
    "            # with open(f'{path}/{tbl_airport}.csv', 'r') as file:\n",
    "            #     next(file) #skip first row\n",
    "            #     cursor.execute(f\"TRUNCATE TABLE {tbl_airport}\")\n",
    "            #     cursor.copy_from(file, tbl_airport, sep=',' )\n",
    "\n",
    "            # # Read flights CSV file and load data into flights table\n",
    "            # with open(f'{path}/{tbl_flight}.csv', 'r') as file:\n",
    "            #     next(file) #skip first row\n",
    "            #     cursor.execute(f\"TRUNCATE TABLE {tbl_flight}\")\n",
    "            #     cursor.copy_from(file, tbl_flight, sep=',' )\n",
    "            \n",
    "\n",
    "            # Reading data from CSV files and loading then into tables\n",
    "\n",
    "            ### TERRITORY TABLE\n",
    "            with open(f'{path}/{tbl_territories}.csv', 'r') as file:\n",
    "                next(file) #skip first row\n",
    "                # cursor.execute(f\"TRUNCATE TABLE {tbl_territories}\")\n",
    "                cursor.copy_from(file, tbl_territories.lower() , sep=',' )\n",
    "            \n",
    "            ### PRODUCT_SUBCATEGORIES TABLE\n",
    "            with open(f'{path}/{tbl_product_subcategories}.csv', 'r') as file:  #ok\n",
    "                next(file) #skip first row\n",
    "                # cursor.execute(f\"TRUNCATE TABLE {tbl_product_subcategories}\")\n",
    "                cursor.copy_from(file, tbl_product_subcategories.lower(), sep=',' )\n",
    "\n",
    "            ### PRODUCTS TABLEt\n",
    "            # products.csv containes fields enclosed in quotation marks (\"\") because there are commas (,) inside the field that are not delimiters.\n",
    "            # that's why we use .copy_expert() funtion\n",
    "            with open(f'{path}/{tbl_products}.csv', 'r') as file:  # ok\n",
    "                file_content = file.read()\n",
    "                # Create a file-like object from the string content\n",
    "                file_obj = io.StringIO(file_content)\n",
    "                # Load the CSV data into the PostgreSQL table using copy_expert()\n",
    "                cursor.copy_expert(\"COPY products FROM STDIN WITH (FORMAT CSV, DELIMITER ',', HEADER TRUE, QUOTE '\\\"', ESCAPE '\\\"')\", file_obj)\n",
    "\n",
    "            ### CUSTOMERS TABLE\n",
    "            # customers.csv containes fields enclosed in quotation marks (\"\") because there are commas (,) inside the field that are not delimiters.\n",
    "            # that's why we use .copy_expert() funtion\n",
    "            with open(f'{path}/{tbl_customers}.csv', 'r', encoding='iso-8859-1') as file:  # ok\n",
    "                file_content = file.read()\n",
    "                # Create a file-like object from the string content\n",
    "                file_obj = io.StringIO(file_content)\n",
    "                # Load the CSV data into the PostgreSQL table using copy_expert()\n",
    "                cursor.copy_expert(\"COPY customers FROM STDIN WITH (FORMAT CSV, DELIMITER ',', HEADER TRUE, QUOTE '\\\"', ESCAPE '\\\"')\", file_obj)\n",
    "\n",
    "            ### SALES_2015 TABLE\n",
    "            # sales.csv containes fields enclosed in quotation marks (\"\") because there are commas (,) inside the field that are not delimiters.\n",
    "            # that's why we use .copy_expert() funtion\n",
    "            with open(f'{path}/{tbl_sales}.csv', 'r') as file:  \n",
    "                file_content = file.read()\n",
    "                # Create a file-like object from the string content\n",
    "                file_obj = io.StringIO(file_content)\n",
    "                # Load the CSV data into the PostgreSQL table using copy_expert()\n",
    "                cursor.copy_expert(\"COPY sales_2015 FROM STDIN WITH (FORMAT CSV, DELIMITER ',', HEADER TRUE, QUOTE '\\\"', ESCAPE '\\\"')\", file_obj)\n",
    "\n",
    "    conn.commit()\n",
    "except psycopg2.OperationalError as e:\n",
    "    print(\"Could not start a connection to the database\")\n",
    "    print(e)\n",
    "except psycopg2.DatabaseError as e:\n",
    "    conn.rollback() # Rollback the transaction in case of any error\n",
    "    print(\"An error occur while working with the database, Rolling back!\")\n",
    "    print(e)"
   ]
  },
  {
   "cell_type": "code",
   "execution_count": 29,
   "metadata": {},
   "outputs": [
    {
     "name": "stdout",
     "output_type": "stream",
     "text": [
      "hola\n"
     ]
    }
   ],
   "source": [
    "\n",
    "# import string\n",
    "\n",
    "greeting = 'HOLA'\n",
    "print(greeting.lower())"
   ]
  }
 ],
 "metadata": {
  "kernelspec": {
   "display_name": "base",
   "language": "python",
   "name": "python3"
  },
  "language_info": {
   "codemirror_mode": {
    "name": "ipython",
    "version": 3
   },
   "file_extension": ".py",
   "mimetype": "text/x-python",
   "name": "python",
   "nbconvert_exporter": "python",
   "pygments_lexer": "ipython3",
   "version": "3.9.13"
  },
  "orig_nbformat": 4
 },
 "nbformat": 4,
 "nbformat_minor": 2
}
