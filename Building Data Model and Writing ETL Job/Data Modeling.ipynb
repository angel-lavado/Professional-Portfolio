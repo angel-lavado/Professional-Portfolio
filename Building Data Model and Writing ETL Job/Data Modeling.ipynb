{
 "cells": [
  {
   "cell_type": "code",
   "execution_count": 1,
   "metadata": {},
   "outputs": [
    {
     "name": "stdout",
     "output_type": "stream",
     "text": [
      "Requirement already satisfied: psycopg2 in c:\\users\\angel\\anaconda3\\lib\\site-packages (2.9.6)\n"
     ]
    }
   ],
   "source": [
    "!pip install psycopg2"
   ]
  },
  {
   "cell_type": "code",
   "execution_count": 15,
   "metadata": {},
   "outputs": [
    {
     "name": "stdout",
     "output_type": "stream",
     "text": [
      "Collecting python-dotenv\n",
      "  Downloading python_dotenv-1.0.0-py3-none-any.whl (19 kB)\n",
      "Installing collected packages: python-dotenv\n",
      "Successfully installed python-dotenv-1.0.0\n"
     ]
    }
   ],
   "source": [
    "!pip install python-dotenv"
   ]
  },
  {
   "cell_type": "code",
   "execution_count": 47,
   "metadata": {},
   "outputs": [],
   "source": [
    "import psycopg2\n",
    "from dotenv import load_dotenv\n",
    "import os"
   ]
  },
  {
   "cell_type": "code",
   "execution_count": 48,
   "metadata": {},
   "outputs": [
    {
     "data": {
      "text/plain": [
       "True"
      ]
     },
     "execution_count": 48,
     "metadata": {},
     "output_type": "execute_result"
    }
   ],
   "source": [
    "load_dotenv()  # Load environment variables from .env file"
   ]
  },
  {
   "cell_type": "code",
   "execution_count": 49,
   "metadata": {},
   "outputs": [],
   "source": [
    "# Read connection paramenter from environment variables (BEST PRACTICE!)\n",
    "host = os.environ.get('DB_HOST')\n",
    "dbname = os.environ.get('DB_NAME')\n",
    "user = os.environ.get('DB_USER')\n",
    "password = os.environ.get('DB_PASS')"
   ]
  },
  {
   "cell_type": "code",
   "execution_count": 65,
   "metadata": {},
   "outputs": [],
   "source": [
    "## Parameterization is NEEDED!\n",
    "csv_file_path = 'C:/Users/angel/Desktop/DE PROJECTS/Professional-Portfolio/Building Data Model and Writing ETL Job/Data/airports.csv'\n",
    "csv_file_path2 = 'C:/Users/angel/Desktop/DE PROJECTS/Professional-Portfolio/Building Data Model and Writing ETL Job/Data/flights.csv'\n",
    "\n",
    "tbl_airport = 'airport'\n",
    "tbl_flights = 'flights'"
   ]
  },
  {
   "cell_type": "code",
   "execution_count": 45,
   "metadata": {},
   "outputs": [
    {
     "name": "stdout",
     "output_type": "stream",
     "text": [
      "host=localhost\n"
     ]
    }
   ],
   "source": [
    "print(f\"host={host}\") # Testing if env variables were successfully loaded"
   ]
  },
  {
   "cell_type": "code",
   "execution_count": 50,
   "metadata": {},
   "outputs": [
    {
     "name": "stdout",
     "output_type": "stream",
     "text": [
      "host=postgres\n"
     ]
    }
   ],
   "source": [
    "print(f\"host={dbname}\") # Testing if env variables were successfully loaded"
   ]
  },
  {
   "cell_type": "code",
   "execution_count": 69,
   "metadata": {},
   "outputs": [],
   "source": [
    "# Start connection to Postgres Database \n",
    "# using WITH (context manager) to ensure the connection is properly closed (BEST PRACTICE!), \n",
    "try:\n",
    "    with psycopg2.connect(f\"host={host} dbname='raw_inventory' user={user} password={password}\") as conn:\n",
    "        # Create a cursor object\n",
    "        with conn.cursor() as cursor:\n",
    "            # Create a table if not exists\n",
    "            create_airport_table = \"CREATE TABLE IF NOT EXISTS airport (airport_id INT, city VARCHAR, state VARCHAR, name VARCHAR)\"\n",
    "            create_flights_table = \"CREATE TABLE IF NOT EXISTS flights (DayofMonth INT, DayOfWeek INT, Carrier VARCHAR, OriginAirportID INT, DestAirportID INT, DepDelay INT, ArrDelay INT)\"\n",
    "            cursor.execute(create_airport_table)\n",
    "            cursor.execute(create_flights_table)\n",
    "\n",
    "            # Read CSV file and load data into tables\n",
    "            with open(csv_file_path, 'r') as file:\n",
    "                next(file) #skip first row\n",
    "                cursor.execute(f\"TRUNCATE TABLE {tbl_airport}\")\n",
    "                cursor.copy_from(file, tbl_airport, sep=',' )\n",
    "\n",
    "            with open(csv_file_path2, 'r') as file:\n",
    "                next(file) #skip first row\n",
    "                cursor.execute(f\"TRUNCATE TABLE {tbl_flights}\")\n",
    "                cursor.copy_from(file, tbl_flights, sep=',' )\n",
    "\n",
    "    conn.commit()\n",
    "except psycopg2.OperationalError as e:\n",
    "    print(\"Could not start a connection to the database\")\n",
    "    print(e)\n",
    "except psycopg2.DatabaseError as e:\n",
    "    print(\"An error occur while working with the database\")\n",
    "    print(e)"
   ]
  },
  {
   "cell_type": "code",
   "execution_count": 24,
   "metadata": {},
   "outputs": [
    {
     "name": "stdout",
     "output_type": "stream",
     "text": [
      "host=localhost\n"
     ]
    }
   ],
   "source": []
  },
  {
   "cell_type": "code",
   "execution_count": null,
   "metadata": {},
   "outputs": [],
   "source": [
    "\n"
   ]
  }
 ],
 "metadata": {
  "kernelspec": {
   "display_name": "base",
   "language": "python",
   "name": "python3"
  },
  "language_info": {
   "codemirror_mode": {
    "name": "ipython",
    "version": 3
   },
   "file_extension": ".py",
   "mimetype": "text/x-python",
   "name": "python",
   "nbconvert_exporter": "python",
   "pygments_lexer": "ipython3",
   "version": "3.9.13"
  },
  "orig_nbformat": 4
 },
 "nbformat": 4,
 "nbformat_minor": 2
}
